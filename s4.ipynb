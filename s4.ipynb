{
 "cells": [
  {
   "cell_type": "markdown",
   "id": "13b518e9",
   "metadata": {},
   "source": [
    "regression"
   ]
  },
  {
   "cell_type": "markdown",
   "id": "0e693635",
   "metadata": {},
   "source": [
    "classifaction\n"
   ]
  },
  {
   "cell_type": "code",
   "execution_count": null,
   "id": "c3d01a84",
   "metadata": {},
   "outputs": [],
   "source": []
  },
  {
   "cell_type": "markdown",
   "id": "72e79306",
   "metadata": {},
   "source": [
    "Random Forest"
   ]
  },
  {
   "cell_type": "code",
   "execution_count": null,
   "id": "c12195d3",
   "metadata": {},
   "outputs": [],
   "source": []
  }
 ],
 "metadata": {
  "kernelspec": {
   "display_name": "Python 3",
   "language": "python",
   "name": "python3"
  },
  "language_info": {
   "name": "python",
   "version": "3.10.11"
  }
 },
 "nbformat": 4,
 "nbformat_minor": 5
}
